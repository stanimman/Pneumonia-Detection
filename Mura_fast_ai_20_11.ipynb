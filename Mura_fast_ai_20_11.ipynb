{
  "nbformat": 4,
  "nbformat_minor": 0,
  "metadata": {
    "colab": {
      "name": "Untitled23.ipynb",
      "provenance": [],
      "include_colab_link": true
    },
    "kernelspec": {
      "name": "python3",
      "display_name": "Python 3"
    },
    "accelerator": "GPU"
  },
  "cells": [
    {
      "cell_type": "markdown",
      "metadata": {
        "id": "view-in-github",
        "colab_type": "text"
      },
      "source": [
        "<a href=\"https://colab.research.google.com/github/stanimman/Pneumonia-Detection/blob/master/Mura_fast_ai_20_11.ipynb\" target=\"_parent\"><img src=\"https://colab.research.google.com/assets/colab-badge.svg\" alt=\"Open In Colab\"/></a>"
      ]
    },
    {
      "cell_type": "code",
      "metadata": {
        "id": "egj2r-nUiwsQ",
        "colab_type": "code",
        "outputId": "2c6af1ae-d382-413e-d0aa-1529de17e16a",
        "colab": {
          "base_uri": "https://localhost:8080/",
          "height": 204
        }
      },
      "source": [
        "!wget https://fs6.transfernow.net/download/5dce28b2374ba/master/XR_ELBOW_v1.1.zip"
      ],
      "execution_count": 1,
      "outputs": [
        {
          "output_type": "stream",
          "text": [
            "--2019-11-21 04:34:33--  https://fs6.transfernow.net/download/5dce28b2374ba/master/XR_ELBOW_v1.1.zip\n",
            "Resolving fs6.transfernow.net (fs6.transfernow.net)... 163.172.20.194\n",
            "Connecting to fs6.transfernow.net (fs6.transfernow.net)|163.172.20.194|:443... connected.\n",
            "HTTP request sent, awaiting response... 200 OK\n",
            "Length: 446968578 (426M) [application/zip]\n",
            "Saving to: ‘XR_ELBOW_v1.1.zip’\n",
            "\n",
            "XR_ELBOW_v1.1.zip   100%[===================>] 426.26M  5.12MB/s    in 92s     \n",
            "\n",
            "2019-11-21 04:36:06 (4.63 MB/s) - ‘XR_ELBOW_v1.1.zip’ saved [446968578/446968578]\n",
            "\n"
          ],
          "name": "stdout"
        }
      ]
    },
    {
      "cell_type": "code",
      "metadata": {
        "id": "QUOWDobWwIYZ",
        "colab_type": "code",
        "colab": {}
      },
      "source": [
        "!unzip -qq XR_ELBOW_v1.1.zip"
      ],
      "execution_count": 0,
      "outputs": []
    },
    {
      "cell_type": "code",
      "metadata": {
        "id": "bZmRUQwe5bM8",
        "colab_type": "code",
        "colab": {}
      },
      "source": [
        "from pathlib import Path"
      ],
      "execution_count": 0,
      "outputs": []
    },
    {
      "cell_type": "code",
      "metadata": {
        "id": "_bgbclKvwrD4",
        "colab_type": "code",
        "colab": {}
      },
      "source": [
        "path = Path('/content/XR_ELBOW_v1.1')\n",
        "#import PIL,os,mimetypes\n",
        "#Path.ls = lambda x: list(x.iterdir())"
      ],
      "execution_count": 0,
      "outputs": []
    },
    {
      "cell_type": "code",
      "metadata": {
        "id": "6p6a-iLtiyxz",
        "colab_type": "code",
        "outputId": "fbcea949-c22a-45ae-9bbe-1463dc608079",
        "colab": {
          "base_uri": "https://localhost:8080/",
          "height": 136
        }
      },
      "source": [
        "!git clone https://github.com/fastai/course-v3"
      ],
      "execution_count": 6,
      "outputs": [
        {
          "output_type": "stream",
          "text": [
            "Cloning into 'course-v3'...\n",
            "remote: Enumerating objects: 77, done.\u001b[K\n",
            "remote: Counting objects: 100% (77/77), done.\u001b[K\n",
            "remote: Compressing objects: 100% (73/73), done.\u001b[K\n",
            "remote: Total 5303 (delta 17), reused 40 (delta 3), pack-reused 5226\u001b[K\n",
            "Receiving objects: 100% (5303/5303), 258.04 MiB | 36.59 MiB/s, done.\n",
            "Resolving deltas: 100% (2859/2859), done.\n"
          ],
          "name": "stdout"
        }
      ]
    },
    {
      "cell_type": "code",
      "metadata": {
        "id": "AOswzu2jplYR",
        "colab_type": "code",
        "colab": {}
      },
      "source": [
        "# rm -r /content/exp"
      ],
      "execution_count": 0,
      "outputs": []
    },
    {
      "cell_type": "code",
      "metadata": {
        "id": "jhIkndJVolHD",
        "colab_type": "code",
        "colab": {}
      },
      "source": [
        "mv -T course-v3/nbs/dl2/exp /content/exp"
      ],
      "execution_count": 0,
      "outputs": []
    },
    {
      "cell_type": "code",
      "metadata": {
        "id": "4p2mJJJtLDS9",
        "colab_type": "code",
        "colab": {}
      },
      "source": [
        "from exp.nb_10b import *\n",
        "size = 128\n",
        "tfms = [make_rgb, RandomResizedCrop(size, scale=(0.35,1)), np_to_float, PilRandomFlip()]\n",
        "bs = 64\n",
        "il = ImageList.from_files(path, tfms=tfms)\n",
        "\n"
      ],
      "execution_count": 0,
      "outputs": []
    },
    {
      "cell_type": "code",
      "metadata": {
        "id": "d7HMxwDDVAUy",
        "colab_type": "code",
        "colab": {}
      },
      "source": [
        "# Changed the way the data Splitter is fetching the train / valid data split\n",
        "def parent_splitter(fn, valid_name='valid', train_name='train'):\n",
        "    gp = fn.parent.parent.parent.parent.name\n",
        "    return True if gp==valid_name else False if gp==train_name else None\n",
        "\n",
        "# Changed the way the data labeller is getting the label\n",
        "def parent_labeler(fn): return fn.parent.name.partition(\"_\")[2]"
      ],
      "execution_count": 0,
      "outputs": []
    },
    {
      "cell_type": "code",
      "metadata": {
        "id": "wm6NP69RRh_Q",
        "colab_type": "code",
        "colab": {}
      },
      "source": [
        "sd = SplitData.split_by_func(il, partial(parent_splitter, valid_name='valid'))\n",
        "ll = label_by_func(sd, parent_labeler, proc_y=CategoryProcessor())"
      ],
      "execution_count": 0,
      "outputs": []
    },
    {
      "cell_type": "code",
      "metadata": {
        "id": "N3rGltdWLDbL",
        "colab_type": "code",
        "colab": {}
      },
      "source": [
        "ll.valid.x.tfms = [make_rgb, CenterCrop(size), np_to_float]\n",
        "data = ll.to_databunch(bs, c_in=3, c_out=2, num_workers=8)"
      ],
      "execution_count": 0,
      "outputs": []
    },
    {
      "cell_type": "code",
      "metadata": {
        "id": "ZwNuwNnFLDZG",
        "colab_type": "code",
        "colab": {}
      },
      "source": [
        "def noop(x): return x\n",
        "\n",
        "class Flatten(nn.Module):\n",
        "    def forward(self, x): return x.view(x.size(0), -1)\n",
        "\n",
        "def conv(ni, nf, ks=3, stride=1, bias=False):\n",
        "    return nn.Conv2d(ni, nf, kernel_size=ks, stride=stride, padding=ks//2, bias=bias)\n",
        "\n",
        "act_fn = nn.ReLU(inplace=True)\n",
        "\n",
        "def init_cnn(m):\n",
        "    if getattr(m, 'bias', None) is not None: nn.init.constant_(m.bias, 0)\n",
        "    if isinstance(m, (nn.Conv2d,nn.Linear)): nn.init.kaiming_normal_(m.weight)\n",
        "    for l in m.children(): init_cnn(l)\n",
        "\n",
        "def conv_layer(ni, nf, ks=3, stride=1, zero_bn=False, act=True):\n",
        "    bn = nn.BatchNorm2d(nf)\n",
        "    nn.init.constant_(bn.weight, 0. if zero_bn else 1.)\n",
        "    layers = [conv(ni, nf, ks, stride=stride), bn]\n",
        "    if act: layers.append(act_fn)\n",
        "    return nn.Sequential(*layers)\n",
        "\n",
        "\n",
        "class ResBlock(nn.Module):\n",
        "    def __init__(self, expansion, ni, nh, stride=1):\n",
        "        super().__init__()\n",
        "        nf,ni = nh*expansion,ni*expansion\n",
        "        layers  = [conv_layer(ni, nh, 3, stride=stride),\n",
        "                   conv_layer(nh, nf, 3, zero_bn=True, act=False)\n",
        "        ] if expansion == 1 else [\n",
        "                   conv_layer(ni, nh, 1),\n",
        "                   conv_layer(nh, nh, 3, stride=stride),\n",
        "                   conv_layer(nh, nf, 1, zero_bn=True, act=False)\n",
        "        ]\n",
        "        self.convs = nn.Sequential(*layers)\n",
        "        self.idconv = noop if ni==nf else conv_layer(ni, nf, 1, act=False)\n",
        "        self.pool = noop if stride==1 else nn.AvgPool2d(2, ceil_mode=True)\n",
        "\n",
        "    def forward(self, x): return act_fn(self.convs(x) + self.idconv(self.pool(x)))\n",
        "\n",
        "class XResNet(nn.Sequential):\n",
        "    @classmethod\n",
        "    def create(cls, expansion, layers, c_in=3, c_out=1000):\n",
        "        nfs = [c_in, (c_in+1)*8, 64, 64]\n",
        "        stem = [conv_layer(nfs[i], nfs[i+1], stride=2 if i==0 else 1)\n",
        "            for i in range(3)]\n",
        "\n",
        "        nfs = [64//expansion,64,128,256,512]\n",
        "        res_layers = [cls._make_layer(expansion, nfs[i], nfs[i+1],\n",
        "                                      n_blocks=l, stride=1 if i==0 else 2)\n",
        "                  for i,l in enumerate(layers)]\n",
        "        res = cls(\n",
        "            *stem,\n",
        "            nn.MaxPool2d(kernel_size=3, stride=2, padding=1),\n",
        "            *res_layers,\n",
        "            nn.AdaptiveAvgPool2d(1), Flatten(),\n",
        "            nn.Linear(nfs[-1]*expansion, c_out),\n",
        "        )\n",
        "        init_cnn(res)\n",
        "        return res\n",
        "\n",
        "    @staticmethod\n",
        "    def _make_layer(expansion, ni, nf, n_blocks, stride):\n",
        "        return nn.Sequential(\n",
        "            *[ResBlock(expansion, ni if i==0 else nf, nf, stride if i==0 else 1)\n",
        "              for i in range(n_blocks)])"
      ],
      "execution_count": 0,
      "outputs": []
    },
    {
      "cell_type": "code",
      "metadata": {
        "id": "RHuqyIO-LDXg",
        "colab_type": "code",
        "colab": {}
      },
      "source": [
        "def xresnet18 (**kwargs): return XResNet.create(1, [2, 2,  2, 2], **kwargs)\n",
        "def xresnet34 (**kwargs): return XResNet.create(1, [3, 4,  6, 3], **kwargs)\n",
        "def xresnet50 (**kwargs): return XResNet.create(4, [3, 4,  6, 3], **kwargs)\n",
        "def xresnet101(**kwargs): return XResNet.create(4, [3, 4, 23, 3], **kwargs)\n",
        "def xresnet152(**kwargs): return XResNet.create(4, [3, 8, 36, 3], **kwargs)"
      ],
      "execution_count": 0,
      "outputs": []
    },
    {
      "cell_type": "code",
      "metadata": {
        "id": "A1J6IWDeHYg0",
        "colab_type": "code",
        "outputId": "1a1cd348-f1ee-4811-b288-9a122b2e93d7",
        "colab": {
          "base_uri": "https://localhost:8080/",
          "height": 34
        }
      },
      "source": [
        "x = 5 \n",
        "z = 10 \n",
        "if z >5:\n",
        "  if x >5:\n",
        "    print(x)\n",
        "  else:\n",
        "    print(\"No\")"
      ],
      "execution_count": 0,
      "outputs": [
        {
          "output_type": "stream",
          "text": [
            "No\n"
          ],
          "name": "stdout"
        }
      ]
    },
    {
      "cell_type": "code",
      "metadata": {
        "id": "LRsjY0trHma4",
        "colab_type": "code",
        "colab": {}
      },
      "source": [
        "# Add Incorrect Image visualization batches\n",
        "class IncrctImageCallback(Callback):\n",
        "\tdef __init__(self,disp_epoch=None):\n",
        "\t\tself.disp_epoch = disp_epoch if disp_epoch is not None else 10\n",
        "\t\tself.disp_counter = 0\n",
        "\t\tself.train_image,self.valid_image = IncrctImage(True),IncrctImage(False)\n",
        "\t\tself.train_Incrct_Img_bt,self.valid_Incrct_Img_bt = [],[]\n",
        "\tdef begin_epoch(self):\n",
        "\t\tself.disp_counter += 1\n",
        "\tdef after_batch(self):\n",
        "\t\tif self.disp_counter == self.disp_epoch : \n",
        "\t\t\tself.train_image.accumulate_image(self.run) if self.in_train else self.valid_image.accumulate_image(self.run)\n",
        "\tdef after_epoch(self):\n",
        "\t\tif (self.disp_counter == self.disp_epoch) :\n",
        "\t\t\tif (self.in_train): \n",
        "\t\t\t\tself.train_Incrct_Img_bt = self.train_image.get_image_batch() \n",
        "\t\t\telse:\n",
        "\t\t\t\tself.valid_Incrct_Img_bt = self.valid_image.get_image_batch() \t    \t\t\t\n",
        "\tdef after_fit(self):\n",
        "\t\tself.logger(\"Training Image\")\n",
        "\t\tself.train_image.show_batch()\n",
        "\t\tself.logger(\"Valid Image\")\n",
        "\t\tself.train_image.show_batch()\n",
        "\n",
        "class IncrctImage():\n",
        "\tdef __init__(self,Train_phase):\n",
        "\t\tself.in_train = Train_phase\n",
        "\t\tself.train_Incrct_Img_bt = {}\n",
        "\t\tself.valid_Incrct_Img_bt = {}\n",
        "\tdef accumulate_image(self,run):\n",
        "\t\tvalues, indices =  (F.softmax(run.pred,1)[:,1]  - run.yb).abs().max(0)\n",
        "\t\tif (self.in_train):\n",
        "\t\t\tself.train_Incrct_Img_bt[values] = [run.xb[indices],run.yb[indices]]\n",
        "\t\telse:\n",
        "\t\t\tself.valid_Incrct_Img_bt[values] = [run.xb[indices],run.yb[indices]]\n",
        "\tdef get_image_batch(self):\n",
        "\t\treturn [self.train_Incrct_Img_bt[x] for x in sorted(self.train_Incrct_Img_bt.keys(),reverse=True)[:5]] if self.in_train else [self.valid_Incrct_Img_bt[x] for x in sorted(self.valid_Incrct_Img_bt.keys(),reverse=True)[:5]]\n",
        "\tdef show_batch(self):\n",
        "\t\tbatch_images_lab = self.get_image_batch()\t \t\n",
        "\t\tplt.figure(figsize=(10,10))\n",
        "\t\tfor n in range(len(batch_images_lab)):\n",
        "\t\t  ax = plt.subplot(5,5,n+1)\n",
        "\t\t  plt.imshow(batch_images_lab[n][0].permute(1, 2, 0).type(torch.uint8).cpu())\n",
        "\t\t  #plt.title(batch_images_lab[n][1])\n",
        "\t\t  plt.axis('off')"
      ],
      "execution_count": 0,
      "outputs": []
    },
    {
      "cell_type": "code",
      "metadata": {
        "id": "ngerQBaoW6o-",
        "colab_type": "code",
        "colab": {}
      },
      "source": [
        "cbfs = [partial(AvgStatsCallback,accuracy), ProgressCallback, CudaCallback,\n",
        "        partial(BatchTransformXCallback, norm_imagenette),partial(IncrctImageCallback,25)\n",
        "#         partial(MixUp, alpha=0.2)\n",
        "       ]"
      ],
      "execution_count": 0,
      "outputs": []
    },
    {
      "cell_type": "code",
      "metadata": {
        "id": "yevGFz2ZXH7R",
        "colab_type": "code",
        "colab": {}
      },
      "source": [
        "loss_func = LabelSmoothingCrossEntropy()\n",
        "arch = partial(xresnet18, c_out=2)\n",
        "opt_func = adam_opt(mom=0.9, mom_sqr=0.99, eps=1e-6, wd=1e-2)"
      ],
      "execution_count": 0,
      "outputs": []
    },
    {
      "cell_type": "code",
      "metadata": {
        "id": "uP3EhfvnXMFi",
        "colab_type": "code",
        "colab": {}
      },
      "source": [
        "def get_batch(dl, learn):\n",
        "    learn.xb,learn.yb = next(iter(dl))\n",
        "    learn.do_begin_fit(0)\n",
        "    learn('begin_batch')\n",
        "    learn('after_fit')\n",
        "    return learn.xb,learn.yb"
      ],
      "execution_count": 0,
      "outputs": []
    },
    {
      "cell_type": "code",
      "metadata": {
        "id": "aDMdCyuKXMOK",
        "colab_type": "code",
        "colab": {}
      },
      "source": [
        "def model_summary(model, data, find_all=False, print_mod=False):\n",
        "    xb,yb = get_batch(data.valid_dl, learn)\n",
        "    mods = find_modules(model, is_lin_layer) if find_all else model.children()\n",
        "    f = lambda hook,mod,inp,out: print(f\"====\\n{mod}\\n\" if print_mod else \"\", out.shape)\n",
        "    with Hooks(mods, f) as hooks: learn.model(xb)"
      ],
      "execution_count": 0,
      "outputs": []
    },
    {
      "cell_type": "code",
      "metadata": {
        "id": "DI0kYVZnXUTG",
        "colab_type": "code",
        "colab": {}
      },
      "source": [
        "learn = Learner(arch(), data, loss_func, lr=1, cb_funcs=cbfs, opt_func=opt_func)"
      ],
      "execution_count": 0,
      "outputs": []
    },
    {
      "cell_type": "code",
      "metadata": {
        "id": "czJ34bqmXdU4",
        "colab_type": "code",
        "outputId": "c9c537fa-16ef-4dae-ea3d-4f6e62ec4be4",
        "colab": {
          "base_uri": "https://localhost:8080/",
          "height": 452
        }
      },
      "source": [
        "learn.model = learn.model.cuda()\n",
        "model_summary(learn.model, data, print_mod=False)"
      ],
      "execution_count": 149,
      "outputs": [
        {
          "output_type": "display_data",
          "data": {
            "text/html": [
              "<table border=\"1\" class=\"dataframe\">\n",
              "  <thead>\n",
              "    <tr style=\"text-align: left;\">\n",
              "      <th>epoch</th>\n",
              "      <th>train_loss</th>\n",
              "      <th>train_accuracy</th>\n",
              "      <th>valid_loss</th>\n",
              "      <th>valid_accuracy</th>\n",
              "      <th>time</th>\n",
              "    </tr>\n",
              "  </thead>\n",
              "  <tbody>\n",
              "  </tbody>\n",
              "</table>"
            ],
            "text/plain": [
              "<IPython.core.display.HTML object>"
            ]
          },
          "metadata": {
            "tags": []
          }
        },
        {
          "output_type": "stream",
          "text": [
            " torch.Size([128, 32, 64, 64])\n",
            " torch.Size([128, 64, 64, 64])\n",
            " torch.Size([128, 64, 64, 64])\n",
            " torch.Size([128, 64, 32, 32])\n",
            " torch.Size([128, 64, 32, 32])\n",
            " torch.Size([128, 128, 16, 16])\n",
            " torch.Size([128, 256, 8, 8])\n",
            " torch.Size([128, 512, 4, 4])\n",
            " torch.Size([128, 512, 1, 1])\n",
            " torch.Size([128, 512])\n",
            " torch.Size([128, 2])\n"
          ],
          "name": "stdout"
        },
        {
          "output_type": "display_data",
          "data": {
            "image/png": "[encoded data removed]",
            "text/plain": [
              "<Figure size 720x720 with 5 Axes>"
            ]
          },
          "metadata": {
            "tags": []
          }
        },
        {
          "output_type": "display_data",
          "data": {
            "image/png": "[encoded data removed]",
            "text/plain": [
              "<Figure size 720x720 with 5 Axes>"
            ]
          },
          "metadata": {
            "tags": []
          }
        }
      ]
    },
    {
      "cell_type": "code",
      "metadata": {
        "id": "isjmscE9XdR6",
        "colab_type": "code",
        "colab": {}
      },
      "source": [
        "arch = partial(xresnet34, c_out=2)"
      ],
      "execution_count": 0,
      "outputs": []
    },
    {
      "cell_type": "code",
      "metadata": {
        "id": "LHj_dw80Xtc0",
        "colab_type": "code",
        "colab": {}
      },
      "source": [
        "learn = Learner(arch(), data, loss_func, lr=1, cb_funcs=cbfs, opt_func=opt_func)"
      ],
      "execution_count": 0,
      "outputs": []
    },
    {
      "cell_type": "code",
      "metadata": {
        "id": "wMSTtKDgXtjX",
        "colab_type": "code",
        "outputId": "26042b5a-3ec7-48c5-a69e-02abbe90e55e",
        "colab": {
          "base_uri": "https://localhost:8080/",
          "height": 296
        }
      },
      "source": [
        "learn.fit(3, cbs=[LR_Find(), Recorder()])"
      ],
      "execution_count": 148,
      "outputs": [
        {
          "output_type": "display_data",
          "data": {
            "text/html": [
              "<table border=\"1\" class=\"dataframe\">\n",
              "  <thead>\n",
              "    <tr style=\"text-align: left;\">\n",
              "      <th>epoch</th>\n",
              "      <th>train_loss</th>\n",
              "      <th>train_accuracy</th>\n",
              "      <th>valid_loss</th>\n",
              "      <th>valid_accuracy</th>\n",
              "      <th>time</th>\n",
              "    </tr>\n",
              "  </thead>\n",
              "  <tbody>\n",
              "    <tr>\n",
              "      <td>0</td>\n",
              "      <td>0.761242</td>\n",
              "      <td>0.553437</td>\n",
              "      <td>15816.000000</td>\n",
              "      <td>0.494624</td>\n",
              "      <td>00:21</td>\n",
              "    </tr>\n",
              "  </tbody>\n",
              "</table>"
            ],
            "text/plain": [
              "<IPython.core.display.HTML object>"
            ]
          },
          "metadata": {
            "tags": []
          }
        },
        {
          "output_type": "display_data",
          "data": {
            "image/png": "[encoded data removed]",
            "text/plain": [
              "<Figure size 720x720 with 5 Axes>"
            ]
          },
          "metadata": {
            "tags": []
          }
        },
        {
          "output_type": "display_data",
          "data": {
            "image/png": "[encoded data removed]",
            "text/plain": [
              "<Figure size 720x720 with 5 Axes>"
            ]
          },
          "metadata": {
            "tags": []
          }
        }
      ]
    },
    {
      "cell_type": "code",
      "metadata": {
        "id": "9vWSuzPHULy5",
        "colab_type": "code",
        "outputId": "9f480469-d3f8-4fbf-f7f8-2de577520c9e",
        "colab": {
          "base_uri": "https://localhost:8080/",
          "height": 269
        }
      },
      "source": [
        "learn.recorder.plot(3)"
      ],
      "execution_count": 150,
      "outputs": [
        {
          "output_type": "display_data",
          "data": {
            "image/png": "[encoded data removed]",
            "text/plain": [
              "<Figure size 432x288 with 1 Axes>"
            ]
          },
          "metadata": {
            "tags": []
          }
        }
      ]
    },
    {
      "cell_type": "code",
      "metadata": {
        "id": "JPZl_6aQUPrx",
        "colab_type": "code",
        "colab": {}
      },
      "source": [
        "def create_phases(phases):\n",
        "    phases = listify(phases)\n",
        "    return phases + [1-sum(phases)]"
      ],
      "execution_count": 0,
      "outputs": []
    },
    {
      "cell_type": "code",
      "metadata": {
        "id": "BjsoUEjoUZlD",
        "colab_type": "code",
        "outputId": "45a5073e-0e14-411d-f864-2653ca329643",
        "colab": {
          "base_uri": "https://localhost:8080/",
          "height": 51
        }
      },
      "source": [
        "print(create_phases(0.3))\n",
        "print(create_phases([0.3,0.2]))"
      ],
      "execution_count": 152,
      "outputs": [
        {
          "output_type": "stream",
          "text": [
            "[0.3, 0.7]\n",
            "[0.3, 0.2, 0.5]\n"
          ],
          "name": "stdout"
        }
      ]
    },
    {
      "cell_type": "code",
      "metadata": {
        "id": "1ZDWm2VuUdTt",
        "colab_type": "code",
        "colab": {}
      },
      "source": [
        "lr = 1e-4\n",
        "pct_start = 0.5\n",
        "phases = create_phases(pct_start)\n",
        "sched_lr  = combine_scheds(phases, cos_1cycle_anneal(lr/10., lr, lr/1e5))\n",
        "sched_mom = combine_scheds(phases, cos_1cycle_anneal(0.95, 0.85, 0.95))"
      ],
      "execution_count": 0,
      "outputs": []
    },
    {
      "cell_type": "code",
      "metadata": {
        "id": "13jerZ_6UgcA",
        "colab_type": "code",
        "colab": {}
      },
      "source": [
        "cbsched = [\n",
        "    ParamScheduler('lr', sched_lr),\n",
        "    ParamScheduler('mom', sched_mom)]"
      ],
      "execution_count": 0,
      "outputs": []
    },
    {
      "cell_type": "code",
      "metadata": {
        "id": "SkN3i9TDUhXM",
        "colab_type": "code",
        "colab": {}
      },
      "source": [
        "learn = Learner(arch(), data, loss_func, lr=lr, cb_funcs=cbfs, opt_func=opt_func)"
      ],
      "execution_count": 0,
      "outputs": []
    },
    {
      "cell_type": "code",
      "metadata": {
        "id": "iPgq5saKUhZz",
        "colab_type": "code",
        "outputId": "2cc650eb-1db8-42cc-b896-17ad8a18e198",
        "colab": {
          "base_uri": "https://localhost:8080/",
          "height": 858
        }
      },
      "source": [
        "learn.fit(25, cbs=cbsched)"
      ],
      "execution_count": 161,
      "outputs": [
        {
          "output_type": "display_data",
          "data": {
            "text/html": [
              "<table border=\"1\" class=\"dataframe\">\n",
              "  <thead>\n",
              "    <tr style=\"text-align: left;\">\n",
              "      <th>epoch</th>\n",
              "      <th>train_loss</th>\n",
              "      <th>train_accuracy</th>\n",
              "      <th>valid_loss</th>\n",
              "      <th>valid_accuracy</th>\n",
              "      <th>time</th>\n",
              "    </tr>\n",
              "  </thead>\n",
              "  <tbody>\n",
              "    <tr>\n",
              "      <td>0</td>\n",
              "      <td>0.685845</td>\n",
              "      <td>0.560941</td>\n",
              "      <td>0.681833</td>\n",
              "      <td>0.544086</td>\n",
              "      <td>00:21</td>\n",
              "    </tr>\n",
              "    <tr>\n",
              "      <td>1</td>\n",
              "      <td>0.662064</td>\n",
              "      <td>0.607179</td>\n",
              "      <td>0.668604</td>\n",
              "      <td>0.569892</td>\n",
              "      <td>00:20</td>\n",
              "    </tr>\n",
              "    <tr>\n",
              "      <td>2</td>\n",
              "      <td>0.654628</td>\n",
              "      <td>0.625634</td>\n",
              "      <td>0.678495</td>\n",
              "      <td>0.567742</td>\n",
              "      <td>00:20</td>\n",
              "    </tr>\n",
              "    <tr>\n",
              "      <td>3</td>\n",
              "      <td>0.649055</td>\n",
              "      <td>0.632123</td>\n",
              "      <td>0.651592</td>\n",
              "      <td>0.630108</td>\n",
              "      <td>00:20</td>\n",
              "    </tr>\n",
              "    <tr>\n",
              "      <td>4</td>\n",
              "      <td>0.642408</td>\n",
              "      <td>0.647536</td>\n",
              "      <td>0.653343</td>\n",
              "      <td>0.621505</td>\n",
              "      <td>00:21</td>\n",
              "    </tr>\n",
              "    <tr>\n",
              "      <td>5</td>\n",
              "      <td>0.637452</td>\n",
              "      <td>0.657270</td>\n",
              "      <td>0.657325</td>\n",
              "      <td>0.640860</td>\n",
              "      <td>00:20</td>\n",
              "    </tr>\n",
              "    <tr>\n",
              "      <td>6</td>\n",
              "      <td>0.631130</td>\n",
              "      <td>0.678970</td>\n",
              "      <td>0.634225</td>\n",
              "      <td>0.634409</td>\n",
              "      <td>00:20</td>\n",
              "    </tr>\n",
              "    <tr>\n",
              "      <td>7</td>\n",
              "      <td>0.628369</td>\n",
              "      <td>0.674914</td>\n",
              "      <td>0.624931</td>\n",
              "      <td>0.647312</td>\n",
              "      <td>00:20</td>\n",
              "    </tr>\n",
              "    <tr>\n",
              "      <td>8</td>\n",
              "      <td>0.622103</td>\n",
              "      <td>0.673900</td>\n",
              "      <td>0.607940</td>\n",
              "      <td>0.683871</td>\n",
              "      <td>00:20</td>\n",
              "    </tr>\n",
              "    <tr>\n",
              "      <td>9</td>\n",
              "      <td>0.613908</td>\n",
              "      <td>0.683634</td>\n",
              "      <td>0.636884</td>\n",
              "      <td>0.627957</td>\n",
              "      <td>00:20</td>\n",
              "    </tr>\n",
              "    <tr>\n",
              "      <td>10</td>\n",
              "      <td>0.612692</td>\n",
              "      <td>0.685459</td>\n",
              "      <td>0.621787</td>\n",
              "      <td>0.647312</td>\n",
              "      <td>00:20</td>\n",
              "    </tr>\n",
              "    <tr>\n",
              "      <td>11</td>\n",
              "      <td>0.600173</td>\n",
              "      <td>0.696208</td>\n",
              "      <td>0.601717</td>\n",
              "      <td>0.677419</td>\n",
              "      <td>00:20</td>\n",
              "    </tr>\n",
              "    <tr>\n",
              "      <td>12</td>\n",
              "      <td>0.601219</td>\n",
              "      <td>0.696410</td>\n",
              "      <td>0.621210</td>\n",
              "      <td>0.686022</td>\n",
              "      <td>00:20</td>\n",
              "    </tr>\n",
              "    <tr>\n",
              "      <td>13</td>\n",
              "      <td>0.594657</td>\n",
              "      <td>0.708578</td>\n",
              "      <td>0.580969</td>\n",
              "      <td>0.690323</td>\n",
              "      <td>00:19</td>\n",
              "    </tr>\n",
              "    <tr>\n",
              "      <td>14</td>\n",
              "      <td>0.586414</td>\n",
              "      <td>0.712229</td>\n",
              "      <td>0.599336</td>\n",
              "      <td>0.716129</td>\n",
              "      <td>00:20</td>\n",
              "    </tr>\n",
              "    <tr>\n",
              "      <td>15</td>\n",
              "      <td>0.580880</td>\n",
              "      <td>0.722166</td>\n",
              "      <td>0.616515</td>\n",
              "      <td>0.681720</td>\n",
              "      <td>00:20</td>\n",
              "    </tr>\n",
              "    <tr>\n",
              "      <td>16</td>\n",
              "      <td>0.567647</td>\n",
              "      <td>0.734537</td>\n",
              "      <td>0.613927</td>\n",
              "      <td>0.696774</td>\n",
              "      <td>00:20</td>\n",
              "    </tr>\n",
              "    <tr>\n",
              "      <td>17</td>\n",
              "      <td>0.569777</td>\n",
              "      <td>0.734942</td>\n",
              "      <td>0.600445</td>\n",
              "      <td>0.694624</td>\n",
              "      <td>00:19</td>\n",
              "    </tr>\n",
              "    <tr>\n",
              "      <td>18</td>\n",
              "      <td>0.556814</td>\n",
              "      <td>0.742040</td>\n",
              "      <td>0.581595</td>\n",
              "      <td>0.711828</td>\n",
              "      <td>00:19</td>\n",
              "    </tr>\n",
              "    <tr>\n",
              "      <td>19</td>\n",
              "      <td>0.553046</td>\n",
              "      <td>0.756844</td>\n",
              "      <td>0.566401</td>\n",
              "      <td>0.735484</td>\n",
              "      <td>00:19</td>\n",
              "    </tr>\n",
              "    <tr>\n",
              "      <td>20</td>\n",
              "      <td>0.548960</td>\n",
              "      <td>0.759278</td>\n",
              "      <td>0.572760</td>\n",
              "      <td>0.729032</td>\n",
              "      <td>00:19</td>\n",
              "    </tr>\n",
              "    <tr>\n",
              "      <td>21</td>\n",
              "      <td>0.544961</td>\n",
              "      <td>0.761509</td>\n",
              "      <td>0.558480</td>\n",
              "      <td>0.726882</td>\n",
              "      <td>00:19</td>\n",
              "    </tr>\n",
              "    <tr>\n",
              "      <td>22</td>\n",
              "      <td>0.544618</td>\n",
              "      <td>0.760292</td>\n",
              "      <td>0.560750</td>\n",
              "      <td>0.735484</td>\n",
              "      <td>00:19</td>\n",
              "    </tr>\n",
              "    <tr>\n",
              "      <td>23</td>\n",
              "      <td>0.540831</td>\n",
              "      <td>0.764348</td>\n",
              "      <td>0.575191</td>\n",
              "      <td>0.726882</td>\n",
              "      <td>00:19</td>\n",
              "    </tr>\n",
              "    <tr>\n",
              "      <td>24</td>\n",
              "      <td>0.537720</td>\n",
              "      <td>0.763537</td>\n",
              "      <td>0.569972</td>\n",
              "      <td>0.726882</td>\n",
              "      <td>00:19</td>\n",
              "    </tr>\n",
              "  </tbody>\n",
              "</table>"
            ],
            "text/plain": [
              "<IPython.core.display.HTML object>"
            ]
          },
          "metadata": {
            "tags": []
          }
        },
        {
          "output_type": "display_data",
          "data": {
            "text/plain": [
              "<Figure size 720x720 with 0 Axes>"
            ]
          },
          "metadata": {
            "tags": []
          }
        },
        {
          "output_type": "display_data",
          "data": {
            "text/plain": [
              "<Figure size 720x720 with 0 Axes>"
            ]
          },
          "metadata": {
            "tags": []
          }
        }
      ]
    },
    {
      "cell_type": "code",
      "metadata": {
        "id": "J7r5upexVTC0",
        "colab_type": "code",
        "colab": {}
      },
      "source": [
        "def cnn_learner(arch, data, loss_func, opt_func, c_in=None, c_out=None,\n",
        "                lr=1e-2, cuda=True, norm=None, progress=True, mixup=0, xtra_cb=None, **kwargs):\n",
        "    cbfs = [partial(AvgStatsCallback,accuracy)]+listify(xtra_cb)\n",
        "    if progress: cbfs.append(ProgressCallback)\n",
        "    if cuda:     cbfs.append(CudaCallback)\n",
        "    if norm:     cbfs.append(partial(BatchTransformXCallback, norm))\n",
        "    if mixup:    cbfs.append(partial(MixUp, mixup))\n",
        "    arch_args = {}\n",
        "    if not c_in : c_in  = data.c_in\n",
        "    if not c_out: c_out = data.c_out\n",
        "    if c_in:  arch_args['c_in' ]=c_in\n",
        "    if c_out: arch_args['c_out']=c_out\n",
        "    return Learner(arch(**arch_args), data, loss_func, opt_func=opt_func, lr=lr, cb_funcs=cbfs, **kwargs)"
      ],
      "execution_count": 0,
      "outputs": []
    },
    {
      "cell_type": "code",
      "metadata": {
        "id": "H9wTPSzmVU4Z",
        "colab_type": "code",
        "colab": {}
      },
      "source": [
        "learn = cnn_learner(xresnet34, data, loss_func, opt_func, norm=norm_imagenette)"
      ],
      "execution_count": 0,
      "outputs": []
    },
    {
      "cell_type": "code",
      "metadata": {
        "id": "9ivvhMa4VZaZ",
        "colab_type": "code",
        "outputId": "f8e5b850-ba85-4ee4-f6e6-f86ca7761f2f",
        "colab": {
          "base_uri": "https://localhost:8080/",
          "height": 824
        }
      },
      "source": [
        "learn.fit(25, cbsched)"
      ],
      "execution_count": 0,
      "outputs": [
        {
          "output_type": "display_data",
          "data": {
            "text/html": [
              "<table border=\"1\" class=\"dataframe\">\n",
              "  <thead>\n",
              "    <tr style=\"text-align: left;\">\n",
              "      <th>epoch</th>\n",
              "      <th>train_loss</th>\n",
              "      <th>train_accuracy</th>\n",
              "      <th>valid_loss</th>\n",
              "      <th>valid_accuracy</th>\n",
              "      <th>time</th>\n",
              "    </tr>\n",
              "  </thead>\n",
              "  <tbody>\n",
              "    <tr>\n",
              "      <td>0</td>\n",
              "      <td>0.636706</td>\n",
              "      <td>0.657270</td>\n",
              "      <td>0.691012</td>\n",
              "      <td>0.617204</td>\n",
              "      <td>00:29</td>\n",
              "    </tr>\n",
              "    <tr>\n",
              "      <td>1</td>\n",
              "      <td>0.636833</td>\n",
              "      <td>0.653620</td>\n",
              "      <td>0.651174</td>\n",
              "      <td>0.608602</td>\n",
              "      <td>00:29</td>\n",
              "    </tr>\n",
              "    <tr>\n",
              "      <td>2</td>\n",
              "      <td>0.632388</td>\n",
              "      <td>0.655445</td>\n",
              "      <td>0.679866</td>\n",
              "      <td>0.554839</td>\n",
              "      <td>00:29</td>\n",
              "    </tr>\n",
              "    <tr>\n",
              "      <td>3</td>\n",
              "      <td>0.627725</td>\n",
              "      <td>0.665788</td>\n",
              "      <td>0.668664</td>\n",
              "      <td>0.615054</td>\n",
              "      <td>00:29</td>\n",
              "    </tr>\n",
              "    <tr>\n",
              "      <td>4</td>\n",
              "      <td>0.639665</td>\n",
              "      <td>0.657879</td>\n",
              "      <td>0.695715</td>\n",
              "      <td>0.600000</td>\n",
              "      <td>00:30</td>\n",
              "    </tr>\n",
              "    <tr>\n",
              "      <td>5</td>\n",
              "      <td>0.636696</td>\n",
              "      <td>0.651998</td>\n",
              "      <td>0.719571</td>\n",
              "      <td>0.645161</td>\n",
              "      <td>00:30</td>\n",
              "    </tr>\n",
              "    <tr>\n",
              "      <td>6</td>\n",
              "      <td>0.634477</td>\n",
              "      <td>0.657473</td>\n",
              "      <td>1.271415</td>\n",
              "      <td>0.643011</td>\n",
              "      <td>00:29</td>\n",
              "    </tr>\n",
              "    <tr>\n",
              "      <td>7</td>\n",
              "      <td>0.632750</td>\n",
              "      <td>0.664774</td>\n",
              "      <td>1.791328</td>\n",
              "      <td>0.617204</td>\n",
              "      <td>00:29</td>\n",
              "    </tr>\n",
              "    <tr>\n",
              "      <td>8</td>\n",
              "      <td>0.629859</td>\n",
              "      <td>0.670452</td>\n",
              "      <td>1.137001</td>\n",
              "      <td>0.645161</td>\n",
              "      <td>00:29</td>\n",
              "    </tr>\n",
              "    <tr>\n",
              "      <td>9</td>\n",
              "      <td>0.641898</td>\n",
              "      <td>0.648753</td>\n",
              "      <td>0.742185</td>\n",
              "      <td>0.529032</td>\n",
              "      <td>00:29</td>\n",
              "    </tr>\n",
              "    <tr>\n",
              "      <td>10</td>\n",
              "      <td>0.644975</td>\n",
              "      <td>0.635571</td>\n",
              "      <td>0.700933</td>\n",
              "      <td>0.602151</td>\n",
              "      <td>00:29</td>\n",
              "    </tr>\n",
              "    <tr>\n",
              "      <td>11</td>\n",
              "      <td>0.625231</td>\n",
              "      <td>0.669438</td>\n",
              "      <td>0.768851</td>\n",
              "      <td>0.552688</td>\n",
              "      <td>00:29</td>\n",
              "    </tr>\n",
              "    <tr>\n",
              "      <td>12</td>\n",
              "      <td>0.622941</td>\n",
              "      <td>0.674711</td>\n",
              "      <td>1.063067</td>\n",
              "      <td>0.584946</td>\n",
              "      <td>00:29</td>\n",
              "    </tr>\n",
              "    <tr>\n",
              "      <td>13</td>\n",
              "      <td>0.629706</td>\n",
              "      <td>0.668830</td>\n",
              "      <td>0.700116</td>\n",
              "      <td>0.686022</td>\n",
              "      <td>00:29</td>\n",
              "    </tr>\n",
              "    <tr>\n",
              "      <td>14</td>\n",
              "      <td>0.611029</td>\n",
              "      <td>0.688704</td>\n",
              "      <td>0.669670</td>\n",
              "      <td>0.615054</td>\n",
              "      <td>00:29</td>\n",
              "    </tr>\n",
              "    <tr>\n",
              "      <td>15</td>\n",
              "      <td>0.623855</td>\n",
              "      <td>0.665585</td>\n",
              "      <td>0.692095</td>\n",
              "      <td>0.604301</td>\n",
              "      <td>00:29</td>\n",
              "    </tr>\n",
              "    <tr>\n",
              "      <td>16</td>\n",
              "      <td>0.604845</td>\n",
              "      <td>0.696410</td>\n",
              "      <td>0.633296</td>\n",
              "      <td>0.647312</td>\n",
              "      <td>00:29</td>\n",
              "    </tr>\n",
              "    <tr>\n",
              "      <td>17</td>\n",
              "      <td>0.592084</td>\n",
              "      <td>0.716488</td>\n",
              "      <td>0.670484</td>\n",
              "      <td>0.625806</td>\n",
              "      <td>00:29</td>\n",
              "    </tr>\n",
              "    <tr>\n",
              "      <td>18</td>\n",
              "      <td>0.578016</td>\n",
              "      <td>0.730481</td>\n",
              "      <td>0.630006</td>\n",
              "      <td>0.686022</td>\n",
              "      <td>00:30</td>\n",
              "    </tr>\n",
              "    <tr>\n",
              "      <td>19</td>\n",
              "      <td>0.571660</td>\n",
              "      <td>0.741229</td>\n",
              "      <td>0.577438</td>\n",
              "      <td>0.729032</td>\n",
              "      <td>00:30</td>\n",
              "    </tr>\n",
              "    <tr>\n",
              "      <td>20</td>\n",
              "      <td>0.563951</td>\n",
              "      <td>0.747921</td>\n",
              "      <td>0.572122</td>\n",
              "      <td>0.748387</td>\n",
              "      <td>00:29</td>\n",
              "    </tr>\n",
              "    <tr>\n",
              "      <td>21</td>\n",
              "      <td>0.552050</td>\n",
              "      <td>0.759481</td>\n",
              "      <td>0.555295</td>\n",
              "      <td>0.761290</td>\n",
              "      <td>00:29</td>\n",
              "    </tr>\n",
              "    <tr>\n",
              "      <td>22</td>\n",
              "      <td>0.541063</td>\n",
              "      <td>0.765768</td>\n",
              "      <td>0.528273</td>\n",
              "      <td>0.767742</td>\n",
              "      <td>00:29</td>\n",
              "    </tr>\n",
              "    <tr>\n",
              "      <td>23</td>\n",
              "      <td>0.534800</td>\n",
              "      <td>0.775502</td>\n",
              "      <td>0.532947</td>\n",
              "      <td>0.769893</td>\n",
              "      <td>00:29</td>\n",
              "    </tr>\n",
              "    <tr>\n",
              "      <td>24</td>\n",
              "      <td>0.533328</td>\n",
              "      <td>0.777124</td>\n",
              "      <td>0.542768</td>\n",
              "      <td>0.776344</td>\n",
              "      <td>00:29</td>\n",
              "    </tr>\n",
              "  </tbody>\n",
              "</table>"
            ],
            "text/plain": [
              "<IPython.core.display.HTML object>"
            ]
          },
          "metadata": {
            "tags": []
          }
        }
      ]
    },
    {
      "cell_type": "code",
      "metadata": {
        "id": "Y6wmi_UQLbzk",
        "colab_type": "code",
        "colab": {}
      },
      "source": [
        "import torch\n",
        "import torch.nn.functional as F"
      ],
      "execution_count": 0,
      "outputs": []
    },
    {
      "cell_type": "code",
      "metadata": {
        "id": "av8pymQPRiTz",
        "colab_type": "code",
        "outputId": "8a5ed632-393e-40db-800c-f91d610f0e98",
        "colab": {
          "base_uri": "https://localhost:8080/",
          "height": 34
        }
      },
      "source": [
        "torch.sigmoid(torch.tensor([1.0,2.0,-5.0],))[2] #- torch.tensor(1.0)"
      ],
      "execution_count": 0,
      "outputs": [
        {
          "output_type": "execute_result",
          "data": {
            "text/plain": [
              "tensor(0.0067)"
            ]
          },
          "metadata": {
            "tags": []
          },
          "execution_count": 10
        }
      ]
    },
    {
      "cell_type": "code",
      "metadata": {
        "id": "5XbyE5-PhGns",
        "colab_type": "code",
        "colab": {}
      },
      "source": [
        ""
      ],
      "execution_count": 0,
      "outputs": []
    },
    {
      "cell_type": "code",
      "metadata": {
        "id": "4_yQRz_zR0XH",
        "colab_type": "code",
        "colab": {}
      },
      "source": [
        "input = torch.tensor([1.0,2.0,-5.0])\n",
        "output = F.softmax(input,0)\n",
        "values, indices = output.max(0)"
      ],
      "execution_count": 0,
      "outputs": []
    },
    {
      "cell_type": "code",
      "metadata": {
        "id": "Rbbo1B1lhKpg",
        "colab_type": "code",
        "colab": {}
      },
      "source": [
        "max_dict1 = {values : indices}\n"
      ],
      "execution_count": 0,
      "outputs": []
    },
    {
      "cell_type": "code",
      "metadata": {
        "id": "RQYM4Cs4teLE",
        "colab_type": "code",
        "colab": {}
      },
      "source": [
        "input = torch.tensor([17.0,10.0,15.0])\n",
        "output = F.softmax(input,0)\n",
        "values, indices = output.max(0)"
      ],
      "execution_count": 0,
      "outputs": []
    },
    {
      "cell_type": "code",
      "metadata": {
        "id": "n_9XeoTWuGKd",
        "colab_type": "code",
        "outputId": "549dbc2e-129c-4429-9e98-1eaa0bfb70bf",
        "colab": {
          "base_uri": "https://localhost:8080/",
          "height": 34
        }
      },
      "source": [
        "output[0]"
      ],
      "execution_count": 0,
      "outputs": [
        {
          "output_type": "execute_result",
          "data": {
            "text/plain": [
              "tensor(0.8801)"
            ]
          },
          "metadata": {
            "tags": []
          },
          "execution_count": 54
        }
      ]
    },
    {
      "cell_type": "code",
      "metadata": {
        "id": "fkUQGSAklGKb",
        "colab_type": "code",
        "outputId": "7f90846e-0bd2-4e94-aed0-bd694911b982",
        "colab": {
          "base_uri": "https://localhost:8080/",
          "height": 34
        }
      },
      "source": [
        "max_dict.keys()"
      ],
      "execution_count": 0,
      "outputs": [
        {
          "output_type": "execute_result",
          "data": {
            "text/plain": [
              "dict_keys([tensor(0.7306)])"
            ]
          },
          "metadata": {
            "tags": []
          },
          "execution_count": 26
        }
      ]
    },
    {
      "cell_type": "code",
      "metadata": {
        "id": "3_-qsOeAm_F7",
        "colab_type": "code",
        "colab": {}
      },
      "source": [
        "max_dict2 = {values : indices}"
      ],
      "execution_count": 0,
      "outputs": []
    },
    {
      "cell_type": "code",
      "metadata": {
        "id": "gRebeCpltz5R",
        "colab_type": "code",
        "outputId": "55555750-40ef-42a8-b9f2-96ede1feceb7",
        "colab": {
          "base_uri": "https://localhost:8080/",
          "height": 34
        }
      },
      "source": [
        "output[0]"
      ],
      "execution_count": 0,
      "outputs": [
        {
          "output_type": "execute_result",
          "data": {
            "text/plain": [
              "tensor(1.0000)"
            ]
          },
          "metadata": {
            "tags": []
          },
          "execution_count": 37
        }
      ]
    },
    {
      "cell_type": "code",
      "metadata": {
        "id": "hEBOuK0PtlhS",
        "colab_type": "code",
        "outputId": "3f13dea7-e86a-4951-9fd7-c90d230a5837",
        "colab": {
          "base_uri": "https://localhost:8080/",
          "height": 34
        }
      },
      "source": [
        "max_dict,max_dict2"
      ],
      "execution_count": 0,
      "outputs": [
        {
          "output_type": "execute_result",
          "data": {
            "text/plain": [
              "({tensor(0.7306): tensor(1)}, {tensor(0.8801): tensor(0)})"
            ]
          },
          "metadata": {
            "tags": []
          },
          "execution_count": 57
        }
      ]
    },
    {
      "cell_type": "code",
      "metadata": {
        "id": "JcJwhTY6tngf",
        "colab_type": "code",
        "colab": {}
      },
      "source": [
        "final_dict = {}\n",
        "final_dict[values] = indices"
      ],
      "execution_count": 0,
      "outputs": []
    },
    {
      "cell_type": "code",
      "metadata": {
        "id": "j_n0BCkYu1DW",
        "colab_type": "code",
        "colab": {}
      },
      "source": [
        "final_dict[values] = indices"
      ],
      "execution_count": 0,
      "outputs": []
    },
    {
      "cell_type": "code",
      "metadata": {
        "id": "jJzuHYGLvi68",
        "colab_type": "code",
        "outputId": "8dc286d6-6233-4bea-dcef-5853ac044247",
        "colab": {
          "base_uri": "https://localhost:8080/",
          "height": 34
        }
      },
      "source": [
        "final_dict"
      ],
      "execution_count": 0,
      "outputs": [
        {
          "output_type": "execute_result",
          "data": {
            "text/plain": [
              "{tensor(0.7306): tensor(1), tensor(0.8801): tensor(0)}"
            ]
          },
          "metadata": {
            "tags": []
          },
          "execution_count": 62
        }
      ]
    },
    {
      "cell_type": "code",
      "metadata": {
        "id": "bpgNQiFevj_d",
        "colab_type": "code",
        "outputId": "8813eed6-c0f0-4d4b-8786-fb6f746b3bbe",
        "colab": {
          "base_uri": "https://localhost:8080/",
          "height": 51
        }
      },
      "source": [
        "for key in sorted(final_dict,reverse=True):\n",
        "  print(key,final_dict[key])"
      ],
      "execution_count": 0,
      "outputs": [
        {
          "output_type": "stream",
          "text": [
            "tensor(0.8801) tensor(0)\n",
            "tensor(0.7306) tensor(1)\n"
          ],
          "name": "stdout"
        }
      ]
    },
    {
      "cell_type": "code",
      "metadata": {
        "id": "03kfoXGZv3PK",
        "colab_type": "code",
        "colab": {}
      },
      "source": [
        "tens"
      ],
      "execution_count": 0,
      "outputs": []
    }
  ]
}